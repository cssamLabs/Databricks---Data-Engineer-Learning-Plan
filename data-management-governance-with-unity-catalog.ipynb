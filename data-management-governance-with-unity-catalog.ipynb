{
 "cells": [
  {
   "cell_type": "markdown",
   "metadata": {},
   "source": [
    "# Data Mangement and Governance with Unity Catelog"
   ]
  },
  {
   "cell_type": "markdown",
   "metadata": {},
   "source": [
    "## Data Governance Overview\n",
    "\n",
    "![data governance overview](images/data-governance-overview.png)\n",
    "![data-governance-overview-challanges-in-datalake](images/data-governance-overview-challanges-in-datalake.png)\n",
    "![data-intelligence-platform](images/data-intelligence-platform.png)\n",
    "![unity-catalog](images/unity-catalog.png)\n",
    "![unity-catalog-overview](images/unity-catalog-overview.png)\n",
    "![unity-catalog-opensource](images/unity-catalog-opensource.png)\n",
    "![unity-catalog-opensource-connections](images/unity-catalog-opensource-connections.png)\n",
    "![unity-catalog-opensource-categories](images/unity-catalog-opensource-categories.png)\n",
    "![unity-catalog-keyconcepts](images/unity-catalog-keyconcepts.png)\n",
    "![unity-catalog-keyconcepts-externalstorage](images/unity-catalog-keyconcepts-externalstorage.png)\n",
    "![unity-catalog-databricks-externalstorage](images/unity-catalog-databricks-externalstorage.png)\n",
    "![unity-catalog-databricks-externalstorage-hive](images/unity-catalog-databricks-externalstorage-hive.png)\n",
    "![unity-catalog-keyconcepts-schema](images/unity-catalog-keyconcepts-schema.png)\n",
    "\n",
    "![comparison-managed-unmanaged-tables](images/comparison-managed-unmanaged-tables.png)\n",
    "![unity-catalog-volumes](images/unity-catalog-volumes.png)\n",
    "![unity-catalog-databricks-function](images/unity-catalog-databricks-function.png)\n",
    "![unity-catalog-custom-functions](images/unity-catalog-custom-functions.png)\n",
    "![unity-catalog-model-registry](images/unity-catalog-model-registry.png)\n",
    "![unity-catalog-namespace](images/unity-catalog-namespace.png)\n",
    "![unity-catalog-databricks-explorer](images/unity-catalog-databricks-explorer.png)\n",
    "![lakehouse-federation](images/lakehouse-federation.png)\n",
    "![unity-catalog-postgrass-access](images/unity-catalog-postgrass-access.png)\n",
    "![unity-catalog-delta-sharing](images/unity-catalog-delta-sharing.png)\n",
    "![unity-catalog-delta-sharing-provider-consumer](images/unity-catalog-delta-sharing-provider-consumer.png)\n",
    "![unity-catalog-all-components](images/unity-catalog-all-components.png)\n",
    "![databricks-bestpractice-table](images/databricks-bestpractice-table.png)\n",
    "![databricks-featurestore-ml](images/databricks-featurestore-ml.png)\n",
    "![unity-catalog-databricks-vector-search](images/unity-catalog-databricks-vector-search.png)\n",
    "![unity-catalog-databricks-vector-search-create](images/unity-catalog-databricks-vector-search-create.png)\n",
    "![unity-catalog-databricks-vector-search-schema](images/unity-catalog-databricks-vector-search-schema.png)\n",
    "![unity-catalog-databricks-vector-search-query](images/unity-catalog-databricks-vector-search-query.png)\n"
   ]
  },
  {
   "cell_type": "markdown",
   "metadata": {},
   "source": [
    "## Populating Metastore\n",
    "\n",
    "\n"
   ]
  },
  {
   "cell_type": "markdown",
   "metadata": {},
   "source": [
    "![metastore-create-catalog](images/metastore-create-catalog.png)\n",
    "![metastore-current-catalog](images/metastore-current-catalog.png)\n",
    "![metastore-current-catalog-verify](images/metastore-current-catalog-verify.png)\n",
    "![metastore-default-schema](images/metastore-default-schema.png)\n",
    "![metastore-schema](images/metastore-schema.png)\n",
    "![metastore-table-create](images/metastore-table-create.png)\n",
    "![metastore-managed-tables](images/metastore-managed-tables.png)\n",
    "![metastore-views](images/metastore-views.png)\n",
    "![metastore-user-defined-functions](images/metastore-user-defined-functions.png)\n",
    "![metastore-sensitive-data](images/metastore-sensitive-data.png)\n",
    "![metastore-sensitive-data-mask](images/metastore-sensitive-data-mask.png)\n",
    "![metastore-databricks-explorer](images/metastore-databricks-explorer.png)\n",
    "![metastore-databricks-schema-delete](images/metastore-databricks-schema-delete.png)\n",
    "![metastore-databricks-add-ai-generated](images/metastore-databricks-add-ai-generated.png)\n",
    "![metastore-databricks-table-history](images/metastore-databricks-table-history.png)"
   ]
  },
  {
   "cell_type": "markdown",
   "metadata": {},
   "source": [
    "## Organization and Access Patterns\n",
    "\n",
    "![organization-access-isolation](images/organization-access-isolation.png)\n",
    "![organization-access-databricks-user-management](images/organization-access-databricks-user-management.png)\n",
    "![organization-access-databricks-user-role](images/organization-access-databricks-user-role.png)\n",
    "![organization-access-databricks-catalog](images/organization-access-databricks-catalog.png)\n",
    "![organization-access-databricks-catalog-configuration](images/organization-access-databricks-catalog-configuration.png)\n",
    "![organization-access-databricks-group-memebers](images/organization-access-databricks-group-memebers.png)\n",
    "![organization-access-databricks-catalog-permissions](images/organization-access-databricks-catalog-permissions.png)\n",
    "![organization-access-databricks-catalog-workspaces-access](images/organization-access-databricks-catalog-workspaces-access.png)\n",
    "![organization-access-catalog-isolation-combined](images/organization-access-catalog-isolation-combined.png)\n",
    "![organization-access-databricks-create-catalog-privileges](images/organization-access-databricks-create-catalog-privileges.png)\n",
    "![organization-access-example](images/organization-access-example.png)\n",
    "![organization-access-specfied-environments](images/organization-access-specfied-environments.png)\n",
    "![organization-access-databricks-add-permissions](images/organization-access-databricks-add-permissions.png)\n",
    "![organization-access-best-practice-cataloge](images/organization-access-best-practice-cataloge.png)\n",
    "![organization-access-clusters-warehouses](images/organization-access-clusters-warehouses.png)\n",
    "![organization-access-cluster-access-mode](images/organization-access-cluster-access-mode.png)\n",
    "![organization-access-across-boundaries](images/organization-access-across-boundaries.png)\n",
    "![organization-access-best-practices-cross-regional](images/organization-access-best-practices-cross-regional.png)\n",
    "![organization-access-best-practices-tags](iamges.organization-access-best-practices-tags.png)\n",
    "![organization-access-catalog-lineage](images/organization-access-catalog-lineage.png)\n",
    "![organization-access-catalog-lineage-view](images/organization-access-catalog-lineage-view.png)\n",
    "![organization-access-catalog-lineage-automated](images/organization-access-catalog-lineage-automated.png)\n",
    "![organization-access-lakehouse-monitioring](images/organization-access-lakehouse-monitioring.png)\n",
    "\n"
   ]
  },
  {
   "cell_type": "markdown",
   "metadata": {},
   "source": [
    "## Upgrading Hive Tables to Unity Catalog\n",
    "\n",
    "![migration-hive-option-ucx](images/migration-hive-option-ucx.png)\n",
    "![migration-hive-option-sync](images/migration-hive-option-sync.png)\n",
    "![migration-hive-option-sync-util](images/migration-hive-option-sync-util.png)\n",
    "![migration-hive-option-uc](images/migration-hive-option-uc.png)\n",
    "![migration-hive-option-uc-basic](images/migration-hive-option-uc-basic.png)\n",
    "![migration-hive-option-uc-wizard-1](images/migration-hive-option-uc-wizard-1.png)\n",
    "![migration-hive-option-uc-wizard-2](images/migration-hive-option-uc-wizard-2.png)\n",
    "![migration-hive-option-uc-wizard-3](images/migration-hive-option-uc-wizard-3.png)\n",
    "![migration-hive-option-uc-wizard-4](images/migration-hive-option-uc-wizard-4.png)\n",
    "![migration-hive-option-deep-clone](images/migration-hive-option-deep-clone.png)\n",
    "![migration-hive-option-deep-clone-about](images/migration-hive-option-deep-clone-about.png)\n",
    "![migration-hive-option-CTAS](images/migration-hive-option-CTAS.png)\n",
    "![migration-hive-databrics-describe](images/migration-hive-databrics-describe.png)\n",
    "![migration-hive-databrics-create-deepclone](images/migration-hive-databrics-create-deepclone.png)\n",
    "![migration-hive-databrics-create-from-select](images/migration-hive-databrics-create-from-select.png)\n",
    "![migration-hive-databrics-upgrade](images/migration-hive-databrics-upgrade.png)"
   ]
  },
  {
   "cell_type": "markdown",
   "metadata": {},
   "source": [
    "## Security and Administration in Unity Catalog\n",
    "\n",
    "![security-model-unity-catalog](images/security-model-unity-catalog.png)\n",
    "![security-model-unity-catalog-query](images/security-model-unity-catalog-query.png)\n",
    "![security-model-hive](images/security-model-hive.png)\n",
    "![security-model-hive-security-model](images/security-model-hive-security-model.png)"
   ]
  },
  {
   "cell_type": "markdown",
   "metadata": {},
   "source": [
    "## Databricks Marketplace\n",
    "\n",
    "![databricks-marketplace-overview](images/databricks-marketplace-overview.png)\n",
    "![databricks-marketplace-components](images/databricks-marketplace-components.png)\n",
    "![databricks-marketplace-providers](images/databricks-marketplace-providers.png)\n",
    "![databricks-marketplace-dashboard](images/databricks-marketplace-dashboard.png)"
   ]
  },
  {
   "cell_type": "markdown",
   "metadata": {},
   "source": [
    "## Privileges in Unity Catalog\n",
    "\n",
    "![privileges-centralized-access-control](images/privileges-centralized-access-control.png)\n",
    "![privileges-acls](images/privileges-acls.png)\n",
    "![privileges-data-security-model](images/privileges-data-security-model.png)\n",
    "![privileges-types](images/privileges-types.png)\n",
    "![privileges-scenarios](images/privileges-scenarios.png)\n",
    "![privileges-three-scenarios](images/privileges-three-scenarios.png)"
   ]
  },
  {
   "cell_type": "markdown",
   "metadata": {},
   "source": [
    "## Fine-grained Access Control\n",
    "\n",
    "![fine-grained-access-control](images/fine-grained-access-control.png)\n",
    "![fine-grained-access-control-approches](images/fine-grained-access-control-approches.png)\n",
    "![fine-grained-access-control-row-column](images/fine-grained-access-control-row-column.png)"
   ]
  },
  {
   "cell_type": "markdown",
   "metadata": {},
   "source": [
    "## Lakehouse Data Monitoring\n",
    "\n",
    "![lakehouse-data-monitoring](images/lakehouse-data-monitoring.png)\n",
    "![lakehouse-data-monitoring-create-monitor](images/lakehouse-data-monitoring-create-monitor.png)\n",
    "![lakehouse-data-monitoring-dashboard](images/lakehouse-data-monitoring-dashboard.png)"
   ]
  }
 ],
 "metadata": {
  "language_info": {
   "name": "python"
  }
 },
 "nbformat": 4,
 "nbformat_minor": 2
}
