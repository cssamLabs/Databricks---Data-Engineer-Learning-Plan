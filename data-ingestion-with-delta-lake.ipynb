{
 "cells": [
  {
   "cell_type": "markdown",
   "metadata": {},
   "source": [
    "# The Delta Lake\n",
    "\n",
    "![image of DeltaLake](images/deltaLake.png)"
   ]
  },
  {
   "cell_type": "markdown",
   "metadata": {},
   "source": [
    "# Data Object in Databricks\n",
    "\n",
    "![image of DeltaLake](images/dataObjectInDataBricks.png)"
   ]
  },
  {
   "cell_type": "markdown",
   "metadata": {},
   "source": [
    "## Set Up and Load Delta Tables"
   ]
  },
  {
   "cell_type": "markdown",
   "metadata": {},
   "source": [
    "Quering Files"
   ]
  },
  {
   "cell_type": "code",
   "execution_count": 1,
   "metadata": {},
   "outputs": [
    {
     "ename": "SyntaxError",
     "evalue": "invalid syntax (731442162.py, line 1)",
     "output_type": "error",
     "traceback": [
      "  \u001b[36mCell\u001b[39m\u001b[36m \u001b[39m\u001b[32mIn[1]\u001b[39m\u001b[32m, line 1\u001b[39m\n\u001b[31m    \u001b[39m\u001b[31mSELECT * FROM parquet.`${DA.paths.datasets}/ecommerce/raw/sales-historical` LIMIT 10;\u001b[39m\n                  ^\n\u001b[31mSyntaxError\u001b[39m\u001b[31m:\u001b[39m invalid syntax\n"
     ]
    }
   ],
   "source": [
    "SELECT * FROM parquet.`${DA.paths.datasets}/ecommerce/raw/sales-historical` LIMIT 10;"
   ]
  },
  {
   "cell_type": "markdown",
   "metadata": {},
   "source": [
    "Create Table as Select (CTAS)\n",
    "\n",
    "CREATE TABLE AS SELECT"
   ]
  },
  {
   "cell_type": "code",
   "execution_count": null,
   "metadata": {},
   "outputs": [],
   "source": [
    "CREATE OR REPLACE TEMP VIEW sales_unparsed AS   SELECT * FROM `csv.{da.paths.datasets}/ecommerce/raw/sales-csv`;\n",
    "\n",
    "SELECT * FROM sales_unparsed LIMIT 10;"
   ]
  },
  {
   "cell_type": "markdown",
   "metadata": {},
   "source": [
    "The read_files() Table-Valued \n",
    "\n",
    "options:\n",
    "    1. format => \"csv\"\n",
    "    2. => \"|\"\n",
    "    3. header => true\n",
    "    4. mode => \"FAILFAST\""
   ]
  },
  {
   "cell_type": "code",
   "execution_count": null,
   "metadata": {},
   "outputs": [],
   "source": [
    "CREATE TABLE sales_bronze\n",
    "    USING DELTA AS  \n",
    "        SELECT * FROM read_files()\"${da.paths.datasets}/ecommerce/raw/sales-csv\",\n",
    "            format => \"csv\",\n",
    "            sep => \"|\",\n",
    "            header => true,\n",
    "            mode => \"FAILFAST\");"
   ]
  },
  {
   "cell_type": "markdown",
   "metadata": {},
   "source": [
    "Catalogs, Schemas, and Tables on Databricks\n",
    "\n",
    "DESCRIBE CATALOG `${DA.catalog_name}`;\n",
    "\n",
    "DESCRIBE SCHEMA `${DA.schema_name}`;"
   ]
  },
  {
   "cell_type": "markdown",
   "metadata": {},
   "source": [
    "LOAD "
   ]
  },
  {
   "cell_type": "code",
   "execution_count": null,
   "metadata": {},
   "outputs": [],
   "source": [
    "COPY INTO users_bronze\n",
    "    FROM '${DA.paths.datasets}/ecommerce/raw/users-30m'\n",
    "    FILEFORMAT = parquet\n",
    "    COPY_OPTIONS ('mergeSchema' = 'true');"
   ]
  },
  {
   "cell_type": "markdown",
   "metadata": {},
   "source": [
    "Creating External Tables\n",
    "\n",
    "CREATE TABLE sales_csv\n",
    "(orer_id LONG, email STRING, transactions_timestamp LONG, total_item_quantity INTEGE,\n",
    "purchase_revenue_in_usd DOUBLE, unique_items INTEGER, items STRING\n",
    ")\n",
    "USING CSV\n",
    "OPTIONS (\n",
    "   header = \"true\"\n",
    "   delimiter = \"|\" \n",
    ")\n",
    "LOCATION \"${table location}\""
   ]
  },
  {
   "cell_type": "markdown",
   "metadata": {},
   "source": [
    "Built-In Function"
   ]
  },
  {
   "cell_type": "code",
   "execution_count": null,
   "metadata": {},
   "outputs": [],
   "source": [
    "CREATE TABLE users_bronze;\n",
    "    COPY INTO users_bronze FROM \n",
    "        (SELECT *, \n",
    "            cast(cast(user_first_touch_timestamp/1e6 AS TIMESTAMP) AS DATE) first_touch_date,\n",
    "            current_timestamp() updated,\n",
    "            input_file_name() source_file\n",
    "        FROM '${da.paths.datasets}/ecommerce/raw/users-historical'\n",
    "        )\n",
    "        FILEFORMAT = PARQUET \n",
    "        COPY_OPTIONS ('mergeSchema' = 'true');"
   ]
  },
  {
   "cell_type": "code",
   "execution_count": null,
   "metadata": {},
   "outputs": [],
   "source": [
    "# Basic Transformation\n",
    "\n",
    "## Cloning DeltaLakes Tables\n"
   ]
  },
  {
   "cell_type": "code",
   "execution_count": null,
   "metadata": {},
   "outputs": [],
   "source": [
    "CREATE OR REPLACE TABLE historical_sales_bronze\n",
    "    USING DELTA AS\n",
    "        SELECT * FROM parquet.`${DA.paths.datasets}/ecommerce/raw/sales-historical`;\n",
    "\n",
    "DESCRIBE historical_sales_bronze;"
   ]
  },
  {
   "cell_type": "code",
   "execution_count": null,
   "metadata": {},
   "outputs": [],
   "source": [
    "CREATE OR REPLACE TABLE historical_sales_clone\n",
    "DEEP CLONE historical_sales_bronze;"
   ]
  },
  {
   "cell_type": "code",
   "execution_count": null,
   "metadata": {},
   "outputs": [],
   "source": [
    "CREATE OR REPLACE TABLE historical_sales_shallow_clone\n",
    "SHALLOW CLONE historical_sales_bronze;\n"
   ]
  },
  {
   "cell_type": "markdown",
   "metadata": {},
   "source": [
    "Complete Overwrites"
   ]
  },
  {
   "cell_type": "code",
   "execution_count": null,
   "metadata": {},
   "outputs": [],
   "source": [
    "CREATE OR REPLACED TABLE events AS\n",
    "    SELECT * FROM parquet.`${da.paths.datasets}/ecommerce/raw/events-historical`;\n",
    "\n",
    "DESCRBE HISTORY events;"
   ]
  },
  {
   "cell_type": "markdown",
   "metadata": {},
   "source": [
    "INSERT OVERWRITE\n",
    "\n",
    "data in the target table will be replaced by data from the query.\n",
    "Will fail if schema doesn't match."
   ]
  },
  {
   "cell_type": "code",
   "execution_count": null,
   "metadata": {},
   "outputs": [],
   "source": [
    "INSERT OVERWRITE events\n",
    "    SELECT * FROM parquet.`${da.paths.datasets}/ecommerce/raw/events-historical`;\n",
    "\n",
    "DESCRBE HISTORY events;"
   ]
  },
  {
   "cell_type": "markdown",
   "metadata": {},
   "source": [
    "MERGE UPDATES\n",
    "\n",
    "upsert data from a source table, view, or DataFrame into Delta table\n",
    "\n",
    "MERGE INTO target a\n",
    "USING source b\n",
    "ON {merge_condition}\n",
    "WHEN MATCHED THEN {matched_action}\n",
    "WHEN NOT MATCHED THEN {not_matched_action}"
   ]
  },
  {
   "cell_type": "code",
   "execution_count": null,
   "metadata": {},
   "outputs": [],
   "source": [
    "CREATE OR REPLACED TEMP VIEW users_update AS\n",
    "SELECT *, current_timestamp() AS updated\n",
    "FROM parquet.`${da.paths.datasets}/ecommerce/raw/users-30m`\n",
    "\n",
    "\n",
    "MERGE INTO users AS\n",
    "USING users_update b\n",
    "ON a.user_id = b.user_id\n",
    "WHEN MATCHED AND a.email IS NULL AND b.email IS NOT NULL THEN\n",
    "    UPDATE SET email = b.email, updated = b.updates\n",
    "WHEN NOT MATCHED THEN\n",
    "    INSERT (user_id, email, updated)\n",
    "    VALUES (b.user_id, b.email, b.updated)"
   ]
  },
  {
   "cell_type": "markdown",
   "metadata": {},
   "source": [
    "INSERT-ONLY MERGE for Deduplication"
   ]
  },
  {
   "cell_type": "code",
   "execution_count": null,
   "metadata": {},
   "outputs": [],
   "source": [
    "MERGE INTO events AS\n",
    "USING events_update b\n",
    "ON a.user_id = b.user_id AND a.event_timestamp = b.event_timestamp\n",
    "WHEN NOT MATCHED AND b.traffic_source = 'email' THEN\n",
    "    INSERT *"
   ]
  },
  {
   "cell_type": "markdown",
   "metadata": {},
   "source": [
    "Declare Schema with Generated Columns"
   ]
  },
  {
   "cell_type": "code",
   "execution_count": null,
   "metadata": {},
   "outputs": [],
   "source": [
    "CREATE OR REPLACE TABLE purchase_dates (\n",
    "    id STRING,\n",
    "    transaction_timestamp STRING,\n",
    "    price STRING,\n",
    "    date DATE GENERATED ALWAYS AS (\n",
    "        cast(cast(transaction_timestamp/le6 AS TIMESTAMP) AS DATE)\n",
    "    )\n",
    "    COMMENT \"generated based on `transaction_timestamp` column\"\n",
    ");"
   ]
  },
  {
   "cell_type": "markdown",
   "metadata": {},
   "source": [
    "SET"
   ]
  },
  {
   "cell_type": "code",
   "execution_count": null,
   "metadata": {},
   "outputs": [],
   "source": [
    "SET spark.databricks.delta.schema.automerge.enabled=true;\n",
    "\n",
    "MERGE INTO purchase_dates a\n",
    "USING purchases b\n",
    "ON a.id = b.id \n",
    "WHEN NOT MATCHED THEN\n",
    "    INSERT *;\n",
    "SELECT * FROM purchase_dates;"
   ]
  },
  {
   "cell_type": "markdown",
   "metadata": {},
   "source": [
    "Add aTable Constraint\n",
    "\n",
    "NOT_NULL\n",
    "CHECK"
   ]
  },
  {
   "cell_type": "code",
   "execution_count": null,
   "metadata": {},
   "outputs": [],
   "source": [
    "ALTER TABLE purchase_dates ADD CONSTRAINTS valid+dae CHECK (date > '2020-01-01')"
   ]
  },
  {
   "cell_type": "code",
   "execution_count": null,
   "metadata": {},
   "outputs": [],
   "source": [
    "DESCRIBE EXTENDED purchase_dates"
   ]
  },
  {
   "cell_type": "markdown",
   "metadata": {},
   "source": [
    "# Cleaning Data"
   ]
  },
  {
   "cell_type": "code",
   "execution_count": null,
   "metadata": {},
   "outputs": [],
   "source": [
    "CREATE TABLE IF NOT EXISTS users_silver \n",
    "(\n",
    "    user_id STRING,\n",
    "    user_first_touch_timestamp BIGINT,\n",
    "    email STRING,\n",
    "    updates TIMESTAMP,\n",
    "    first_touch TIMESTAMP,\n",
    "    first_touch_date DATE,\n",
    "    first_touch_time STRING,\n",
    "    email_domain STRING\n",
    ");\n",
    "\n",
    "CREATE OR REPLACE TABLE users_silver_working AS \n",
    "    SELECT * FROM users_bronze;\n",
    "\n"
   ]
  },
  {
   "cell_type": "markdown",
   "metadata": {},
   "source": [
    "Data Profile\n",
    "\n",
    "click + and select Visualization"
   ]
  },
  {
   "cell_type": "markdown",
   "metadata": {},
   "source": [
    "Missing Data"
   ]
  },
  {
   "cell_type": "markdown",
   "metadata": {},
   "source": [
    "SELECT * FROM users_silver_working WHERE user_id IS NULL;"
   ]
  },
  {
   "cell_type": "code",
   "execution_count": null,
   "metadata": {},
   "outputs": [],
   "source": [
    "CREATE OR REPLACE TABLE user_silver_working AS \n",
    "    SELECT * users_silver_working WHERE user_id IS NOT NULL;"
   ]
  },
  {
   "cell_type": "code",
   "execution_count": null,
   "metadata": {},
   "outputs": [],
   "source": [
    "INSERT OVERWRITE users_silver_working\n",
    "    SELECT DISTING(*) FROM users_silver_working "
   ]
  },
  {
   "cell_type": "markdown",
   "metadata": {},
   "source": [
    "Deduplicate Rows on Specific Column"
   ]
  },
  {
   "cell_type": "code",
   "execution_count": null,
   "metadata": {},
   "outputs": [],
   "source": [
    "INSERT OVERWRITE users_silver_working\n",
    "    SELECT user_is, user_first_touch_timestamp, max(email) AS email, max(updated) AS updated\n",
    "    FROM users_silver_working\n",
    "    WHERE user_id IS NOT NULL\n",
    "GROUP BY user_id, user_first_touch_timestamp;"
   ]
  },
  {
   "cell_type": "markdown",
   "metadata": {},
   "source": [
    "Validate Dataset"
   ]
  },
  {
   "cell_type": "code",
   "execution_count": null,
   "metadata": {},
   "outputs": [],
   "source": [
    "SELECT max(row_count) <= 1 no_duplicate_ids FROM (\n",
    "    SELECT user_id, count(*) AS row_count\n",
    "    FROM users_silver_working\n",
    "    GROUP BY user_id\n",
    ")"
   ]
  },
  {
   "cell_type": "code",
   "execution_count": null,
   "metadata": {},
   "outputs": [],
   "source": [
    "SELECT max(user_id_count) <=1 at_most_one_id FROM (\n",
    "    SELECT email, count(user_id) AS user_id_count\n",
    "    FROM users_silver_working\n",
    "    WHERE email IS NOT NULL\n",
    "    GROUP BY email\n",
    ")"
   ]
  },
  {
   "cell_type": "markdown",
   "metadata": {},
   "source": [
    "Date Formate and Regex"
   ]
  },
  {
   "cell_type": "code",
   "execution_count": null,
   "metadata": {},
   "outputs": [],
   "source": [
    "INSERT INTO users_silver\n",
    "(\n",
    "    SELECT *, to_date(date_format(first_touch, \"yyy-M-d\")) AS first_touch_date,\n",
    "    date_formate(first_touch, \"HH:mm:ss\") AS first_touch_time,\n",
    "    regexp_extract(email, \"@(.*)\", 0) AS email_domain\n",
    "\n",
    "    FROM (\n",
    "        SELECT *, CAST(user_first_touch_timestamp / 1e6 AS timestamp) AS first_touch\n",
    "        FROM users_silver_working\n",
    "    )\n",
    ")"
   ]
  },
  {
   "cell_type": "markdown",
   "metadata": {},
   "source": [
    "# Complex Transformations"
   ]
  },
  {
   "cell_type": "code",
   "execution_count": null,
   "metadata": {},
   "outputs": [],
   "source": [
    "CREATE OR REPLACE TEMP VIEW parsed_events AS SELECT json.* FROM (\n",
    "    SELECT from_json(value, 'STRUCT<......>') AS json FROM event_strings\n",
    ");"
   ]
  },
  {
   "cell_type": "markdown",
   "metadata": {},
   "source": [
    "Manipulate Arrays\n",
    "\n",
    "Spark SQL has a number of functions for manipulating array data\n",
    "\n",
    ". explode()\n",
    ". size()"
   ]
  },
  {
   "cell_type": "code",
   "execution_count": null,
   "metadata": {},
   "outputs": [],
   "source": [
    "CREATE OR REPLACE TEMP VIEW exploded_events AS \n",
    "SELECT *. explode(items) AS item\n",
    "FROM parsed_events;\n",
    "\n",
    "SELECT * FROM exploded_events WERE size(items) > 2"
   ]
  },
  {
   "cell_type": "markdown",
   "metadata": {},
   "source": [
    "Nesting Functions\n",
    "\n",
    "collect_set()"
   ]
  },
  {
   "cell_type": "markdown",
   "metadata": {},
   "source": [
    "SELECT user_id, collect_set(items.items_id) AS cart_history\n",
    "FROM exploded_events\n",
    "GROUP BY user_id\n",
    "ORDERY BY user_id"
   ]
  },
  {
   "cell_type": "markdown",
   "metadata": {},
   "source": [
    "flatten()"
   ]
  },
  {
   "cell_type": "code",
   "execution_count": null,
   "metadata": {},
   "outputs": [],
   "source": [
    "SELECT user_id, flatten(collect_set(items.item_id)) AS cart_history\n",
    "FROM exploded_events\n",
    "GROUP BY user_id\n",
    "ORDER BY user_id"
   ]
  },
  {
   "cell_type": "markdown",
   "metadata": {},
   "source": [
    "array_distinct()"
   ]
  },
  {
   "cell_type": "code",
   "execution_count": null,
   "metadata": {},
   "outputs": [],
   "source": [
    "SELECT use_id, array_distinct(flatten(collect_set(items.item_id))) AS cart_history\n",
    "FROM exploded_events\n",
    "GROUP BY user_id\n",
    "ORDER BY user_id"
   ]
  },
  {
   "cell_type": "markdown",
   "metadata": {},
   "source": [
    "JOIN TABLES"
   ]
  },
  {
   "cell_type": "code",
   "execution_count": null,
   "metadata": {},
   "outputs": [],
   "source": [
    "CREATE OR REPLACE TEMP VIEW item_purchases AS \n",
    "    SELECT * FROM (\n",
    "        SELECT *, explode(items) AS item FROM sales\n",
    "    ) a\n",
    "    INNER JOIN item_lookup b\n",
    "    ON a.item.item_id = b.item_id;"
   ]
  },
  {
   "cell_type": "markdown",
   "metadata": {},
   "source": [
    "Pivot Tables"
   ]
  },
  {
   "cell_type": "code",
   "execution_count": null,
   "metadata": {},
   "outputs": [],
   "source": [
    "SELECT * FROM item_purchases PIVOT (\n",
    "    sum(item.quantity) FOR item_id IN (\n",
    "        'P_FOAM_K',\n",
    "        'M_STAN_Q',\n",
    "        ''\n",
    "    )\n",
    ")"
   ]
  },
  {
   "cell_type": "markdown",
   "metadata": {},
   "source": [
    "# SQL UDFs\n",
    "\n",
    "SQL UDFs adn Control Flow"
   ]
  },
  {
   "cell_type": "markdown",
   "metadata": {},
   "source": [
    "User Defined Functions"
   ]
  },
  {
   "cell_type": "code",
   "execution_count": null,
   "metadata": {},
   "outputs": [],
   "source": [
    "CREATE OR REPLACE FUNCTION sale_announcement (item_name STRING, item_price INT)\n",
    "RETURNS STRING \n",
    "RETURN concat(\"The \", item_name, \" is on sale for $\", round(item_price * 0.8, 0));\n",
    "\n",
    "SELECT *, sale_announcement(name, price) AS message FROM item_lookup"
   ]
  },
  {
   "cell_type": "markdown",
   "metadata": {},
   "source": [
    "Scoping and Permissions of SQL UDFs\n",
    "\n",
    ". persist between executin environments (notebooks, DBSQL queries, and jobs)\n",
    ". Exist as bjects in the metastore and are goverened by the same Table ACLs as databases, tables. or views\n",
    ". To create a SQL UDF\n",
    "    - USE CATALOG on catalog\n",
    "    - USE SHEMA\n",
    "    - USE FUNCTION\n",
    "\n",
    ". To use\n",
    "    - USE CATALOG on the catalog\n",
    "        - USE SCHEMA on the schema\n",
    "        - and Execute\n",
    "\n",
    "\n",
    "DESCRIBE FUNCION EXTENDED"
   ]
  },
  {
   "cell_type": "markdown",
   "metadata": {},
   "source": [
    "SIMPLE Contro, Flow Fuction"
   ]
  },
  {
   "cell_type": "code",
   "execution_count": null,
   "metadata": {},
   "outputs": [],
   "source": [
    "CREATE OR REPLACE FUNCTION item_preference(name STRING, price INT)\n",
    "RETURNS STRING \n",
    "RETURN CASE \n",
    "    WHEN name = \"Standar Queen Mattress\" THEN \"This is my default mattress\"\n",
    "    WHEN name = \"Premium Queen Mattress\" THEN \"This is my favorite mattress\"\n",
    "    WHEN price > 100 THEN concat(\"I'd wait until the \", name, \" is on sale for &\", round(price * 0.8, 0))\n",
    "    ELSE concat(\"I don't need a \", name)\n",
    "END;"
   ]
  },
  {
   "cell_type": "markdown",
   "metadata": {},
   "source": [
    "# Advanced Data Lake Features"
   ]
  },
  {
   "cell_type": "markdown",
   "metadata": {},
   "source": [
    "Liquid Clustering "
   ]
  },
  {
   "cell_type": "code",
   "execution_count": null,
   "metadata": {},
   "outputs": [],
   "source": [
    "CREATE OR REPLACE TABLE events_liquid CLUSTER By (user_id) AS \n",
    "    SELECT * FROM events "
   ]
  },
  {
   "cell_type": "code",
   "execution_count": null,
   "metadata": {},
   "outputs": [],
   "source": [
    "ALTER TABLE events CLUSTER BY (user_id)"
   ]
  },
  {
   "cell_type": "markdown",
   "metadata": {},
   "source": [
    "Choosing Clustering Keys"
   ]
  },
  {
   "cell_type": "markdown",
   "metadata": {},
   "source": [
    "Triggering Liquid Clustering\n",
    "\n",
    "OPTIMIZE events;"
   ]
  },
  {
   "cell_type": "markdown",
   "metadata": {},
   "source": [
    "Creating a Delta Table with History"
   ]
  },
  {
   "cell_type": "code",
   "execution_count": null,
   "metadata": {},
   "outputs": [],
   "source": [
    "CREATE TABLE studets(i INT, name STRING, value DOUBLE);\n",
    "\n",
    "INSERT INTO students VALUES (1, \"Yue\", 1.0);\n",
    "INSERT INTO students VALUES (1, \"Omar\", 2.0);\n",
    "INSERT INTO students VALUES (1, \"YBue\", 2.5);\n",
    "\n",
    "\n",
    "INSERT INTO students VALUES (4, \"Ted\", 4.7), (5, \"Tifeny\", 5.5), (6, \"Vini\", 6.3);\n",
    "\n",
    "UPDATE students SET value = value + 1 WHERE name LIKE \"T%\";\n",
    "\n",
    "DELETE FROM students WHERE value > 6;\n",
    "\n",
    "CREATE OR RELACE TEMP VIEW updates(id, name, value, type) AS VALUES (2, \"Omr\", 15.2, \"update\"), (.....), (.....);\n",
    "\n",
    "\n",
    "DESCRIBE HISTORY students \n",
    "\n"
   ]
  },
  {
   "cell_type": "markdown",
   "metadata": {},
   "source": [
    "Deletion Vectors"
   ]
  },
  {
   "cell_type": "markdown",
   "metadata": {},
   "source": [
    "Delta Lake Time Travel"
   ]
  },
  {
   "cell_type": "code",
   "execution_count": null,
   "metadata": {},
   "outputs": [],
   "source": [
    "SELECT * FROM students VERSION AS OF 3"
   ]
  },
  {
   "cell_type": "code",
   "execution_count": null,
   "metadata": {},
   "outputs": [],
   "source": [
    "RESTORE TABLE students TO VERSION AS OF 9"
   ]
  }
 ],
 "metadata": {
  "kernelspec": {
   "display_name": "Python 3",
   "language": "python",
   "name": "python3"
  },
  "language_info": {
   "codemirror_mode": {
    "name": "ipython",
    "version": 3
   },
   "file_extension": ".py",
   "mimetype": "text/x-python",
   "name": "python",
   "nbconvert_exporter": "python",
   "pygments_lexer": "ipython3",
   "version": "3.12.8"
  }
 },
 "nbformat": 4,
 "nbformat_minor": 2
}
