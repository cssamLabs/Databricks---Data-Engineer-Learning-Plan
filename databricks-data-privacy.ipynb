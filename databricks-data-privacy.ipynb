{
 "cells": [
  {
   "cell_type": "markdown",
   "metadata": {},
   "source": [
    "# Databricks Data Privacy\n",
    "\n",
    "## Storing Data Securely\n",
    "\n",
    "![data-privacy-storing-securely](images/data-privacy-storing-securely.png)\n",
    "![data-privacy-regulatory-compliance](images/data-privacy-regulatory-compliance.png)\n",
    "![data-privacy-databricks-regulatory-compliance](images/data-privacy-databricks-regulatory-compliance.png)\n",
    "![data-privacy-key-aspects](images/data-privacy-key-aspects.png)"
   ]
  },
  {
   "cell_type": "markdown",
   "metadata": {},
   "source": [
    "### Data Privacy in Unity Catalog\n",
    "\n",
    "![data-privacy-unity-catalog](images/data-privacy-unity-catalog.png)\n",
    "![data-privacy-unity-catalog-concepts](images/data-privacy-unity-catalog-concepts.png)\n",
    "![data-privacy-unity-catalog-security-model](images/data-privacy-unity-catalog-security-model.png)\n",
    "![data-privacy-unity-catalog-security-model-acls](images/data-privacy-unity-catalog-security-model-acls.png)\n",
    "![data-privacy-unity-catalog-automated-lineage](images/data-privacy-unity-catalog-automated-lineage.png)\n",
    "![data-privacy-unity-catalog-fine-grained-access-control](images/data-privacy-unity-catalog-fine-grained-access-control.png)\n",
    "![data-privacy-unity-catalog-fine-grained-access-control-dynamic-view](images/data-privacy-unity-catalog-fine-grained-access-control-dynamic-view.png)\n",
    "![data-privacy-unity-catalog-fine-grained-access-control-row-column](images/data-privacy-unity-catalog-fine-grained-access-control-row-column.png)"
   ]
  },
  {
   "cell_type": "markdown",
   "metadata": {},
   "source": [
    "### Audit Your Data\n",
    "![data-privacy-audit-system-tables](images/data-privacy-audit-system-tables.png)\n",
    "![data-privacy-audit-system-tables-audit-logs](images/data-privacy-audit-system-tables-audit-logs.png)\n",
    "![data-privacy-audit-system-tables-lineage-data](images/data-privacy-audit-system-tables-lineage-data.png)"
   ]
  },
  {
   "cell_type": "markdown",
   "metadata": {},
   "source": [
    "### Data Isolation\n",
    "![data-privacy-isolation-metasores](images/data-privacy-isolation-metasores.png)\n",
    "![data-privacy-isolation-catalogs](images/data-privacy-isolation-catalogs.png)\n",
    "![data-privacy-isolation-volumes](images/data-privacy-isolation-volumes.png)\n",
    "![data-privacy-isolation-location](images/data-privacy-isolation-location.png)\n",
    "![data-privacy-isolation-location-storage](images/data-privacy-isolation-location-storage.png)\n",
    "![data-privacy-isolation-accessing-security](images/data-privacy-isolation-accessing-security.png)\n",
    "![data-privacy-isolation-encruption-default](images/data-privacy-isolation-encruption-default.png)\n",
    "![data-privacy-isolation-manage-access-pii](images/data-privacy-isolation-manage-access-pii.png)\n",
    "![data-privacy-isolation-best-practices](images/data-privacy-isolation-best-practices.png)\n",
    "![data-privacy-isolation-pii-lakehouse](images/data-privacy-isolation-pii-lakehouse.png)\n",
    "![data-privacy-isolation-pii-code-grant](images/data-privacy-isolation-pii-code-grant.png)\n",
    "![data-privacy-isolation-pii-code-describe-catalog](images/data-privacy-isolation-pii-code-describe-catalog.png)\n",
    "![data-privacy-isolation-pii-code-catalog-permission](images/data-privacy-isolation-pii-code-catalog-permission.png)\n",
    "![data-privacy-isolation-pii-code-show-grants](images/data-privacy-isolation-pii-code-show-grants.png)\n",
    "![data-privacy-isolation-pii-code-show-grants-schema](images/data-privacy-isolation-pii-code-show-grants-schema.png)\n",
    "![data-privacy-isolation-pii-spark-code-grants-schema-view](images/data-privacy-isolation-pii-spark-code-grants-schema-view.png)\n",
    "![data-privacy-isolation-pii-code-revoke-schema-view](images/data-privacy-isolation-pii-code-revoke-schema-view.png)\n",
    "![data-privacy-isolation-pii-code-protecting-columns](images/data-privacy-isolation-pii-code-protecting-columns.png)\n",
    "![data-privacy-isolation-pii-code-protecting-dynamic-views](images/data-privacy-isolation-pii-code-protecting-dynamic-views.png)\n",
    "![data-privacy-isolation-pii-code-protecting-dynamic-views-column-masking](images/data-privacy-isolation-pii-code-protecting-dynamic-views-column-masking.png)\n",
    "![data-privacy-isolation-pii-code-protecting-dynamic-views-row-filter-column-masking](images/data-privacy-isolation-pii-code-protecting-dynamic-views-row-filter-column-masking.png)\n",
    "![data-privacy-isolation-pii-code-loyality-row-filter](images/data-privacy-isolation-pii-code-loyality-row-filter.png)\n",
    "![data-privacy-isolation-pii-code-loyality-row-filter-table](images/data-privacy-isolation-pii-code-loyality-row-filter-table.png)\n",
    "![data-privacy-isolation-pii-code-loyality-row-filter-table-set-column-mask](images/data-privacy-isolation-pii-code-loyality-row-filter-table-set-column-mask.png)\n",
    "![data-privacy-isolation-pii-code-loyality-segments](images/data-privacy-isolation-pii-code-loyality-segments.png)\n",
    "![data-privacy-isolation-pii-code-redact-function](images/data-privacy-isolation-pii-code-redact-function.png)\n",
    "![data-privacy-isolation-pii-code-redact-set-mask](images/data-privacy-isolation-pii-code-redact-set-mask.png)\n",
    "![data-privacy-isolation-pii-code-redact-set-mask-results](images/data-privacy-isolation-pii-code-redact-set-mask-results.png)\n",
    "![data-privacy-isolation-pii-code-tagging](images/data-privacy-isolation-pii-code-tagging.png)"
   ]
  },
  {
   "cell_type": "markdown",
   "metadata": {},
   "source": [
    "## PII Data Security\n",
    "\n",
    "![data-privacy-pii-data-security](images/data-privacy-pii-data-security.png)"
   ]
  },
  {
   "cell_type": "markdown",
   "metadata": {},
   "source": [
    "### Pseudonymization & Anonymization\n",
    "\n",
    "![data-privacy-pseudonymization-anonymization](images/data-privacy-pseudonymization-anonymization.png)\n",
    "![data-privacy-pseudonymization-overview](images/data-privacy-pseudonymization-overview.png)\n",
    "![data-privacy-pseudonymization-method-hashing](images/data-privacy-pseudonymization-method-hashing.png)\n",
    "![data-privacy-pseudonymization-method-tokenization](images/data-privacy-pseudonymization-method-tokenization.png)\n",
    "![data-privacy-anonymization-overview](images/data-privacy-anonymization-overview.png)\n",
    "![data-privacy-anonymization-method-data-suppression](images/data-privacy-anonymization-method-data-suppression.png)\n",
    "![data-privacy-anonymization-method-generalization](images/data-privacy-anonymization-method-generalization.png)\n",
    "![data-privacy-anonymization-method-categorical-generalization](images/data-privacy-anonymization-method-categorical-generalization.png)\n",
    "![data-privacy-anonymization-method-generalization-binning](images/data-privacy-anonymization-method-generalization-binning.png)\n",
    "![data-privacy-anonymization-method-generalization-truncating-ip](images/data-privacy-anonymization-method-generalization-truncating-ip.png)\n",
    "![data-privacy-anonymization-method-generalization-rounding](images/data-privacy-anonymization-method-generalization-rounding.png)"
   ]
  },
  {
   "cell_type": "markdown",
   "metadata": {},
   "source": [
    "### Summary & Best Practices\n",
    "![data-privacy-pii-common-protection-techniques](images/data-privacy-pii-common-protection-techniques.png)\n",
    "![data-privacy-pii-best-practices](images/data-privacy-pii-best-practices.png)"
   ]
  },
  {
   "cell_type": "markdown",
   "metadata": {},
   "source": [
    "### PII Data Security Coding\n",
    "\n",
    "![data-privacy-pii-data-security-code-generate-pipeline](images/data-privacy-pii-data-security-code-generate-pipeline.png)\n",
    "![data-privacy-pii-data-security-code-generate-pipeline-dag](images/data-privacy-pii-data-security-code-generate-pipeline-dag.png)\n",
    "![data-privacy-pii-data-security-code-pseudonymization](images/data-privacy-pii-data-security-code-pseudonymization.png)\n",
    "![data-privacy-pii-data-security-code-pseudonymization-hashing](images/data-privacy-pii-data-security-code-pseudonymization-hashing.png)\n",
    "![data-privacy-pii-data-security-code-indgest](images/data-privacy-pii-data-security-code-indgest.png)\n",
    "![data-privacy-pii-data-security-code-pseudonymization-hashing-with-salt](images/data-privacy-pii-data-security-code-pseudonymization-hashing-with-salt.png)\n",
    "![data-privacy-pii-data-security-code-pseudonymization-salted](images/data-privacy-pii-data-security-code-pseudonymization-salted.png)\n",
    "![data-privacy-pii-data-security-code-pseudonymization-salted-results](images/data-privacy-pii-data-security-code-pseudonymization-salted-results.png)\n",
    "![data-privacy-pii-data-security-code-pseudonymization-tokenization](images/data-privacy-pii-data-security-code-pseudonymization-tokenization.png)\n",
    "![data-privacy-pii-data-security-code-pseudonymization-tokenized](images/data-privacy-pii-data-security-code-pseudonymization-tokenized.png)\n",
    "![data-privacy-pii-data-security-code-pseudonymization-tokenized-alt-id](images/data-privacy-pii-data-security-code-pseudonymization-tokenized-alt-id.png)\n",
    "![data-privacy-pii-data-security-code-pseudonymization-tokenized-alt-id-results](images/data-privacy-pii-data-security-code-pseudonymization-tokenized-alt-id-results.png)\n",
    "![data-privacy-pii-data-security-code-pseudonymization-tokenized-user-lookup](images/data-privacy-pii-data-security-code-pseudonymization-tokenized-user-lookup.png)\n",
    "![data-privacy-pii-data-security-code-anonymization](images/data-privacy-pii-data-security-code-anonymization.png)\n",
    "![data-privacy-pii-data-security-code-spark](images/data-privacy-pii-data-security-code-spark.png)\n",
    "![data-privacy-pii-data-security-code-spark-raw-date](images/data-privacy-pii-data-security-code-spark-raw-date.png)\n",
    "![data-privacy-pii-data-security-code-spark-readStream-events](images/data-privacy-pii-data-security-code-spark-readStream-events.png)\n",
    "![data-privacy-pii-data-security-code-spark-readStream-events](images/data-privacy-pii-data-security-code-spark-readStream-events.png)\n",
    "![data-privacy-pii-data-security-code-spark-readStream-events-unpack-json](images/data-privacy-pii-data-security-code-spark-readStream-events-unpack-json.png)\n",
    "![data-privacy-pii-data-security-code-binning](images/data-privacy-pii-data-security-code-binning.png)\n",
    "![data-privacy-pii-data-security-code-binned](images/data-privacy-pii-data-security-code-binned.png)\n",
    "![data-privacy-pii-data-security-code-user-age-bins](images/data-privacy-pii-data-security-code-user-age-bins.png)\n",
    "![data-privacy-pii-data-security-code-user-age-bins-results](images/data-privacy-pii-data-security-code-user-age-bins-results.png)"
   ]
  },
  {
   "cell_type": "markdown",
   "metadata": {},
   "source": [
    "### Changed Data Feed and Capturing Changed Data\n",
    "\n",
    "![data-privacy-cdf](images/data-privacy-cdf.png)\n",
    "![data-privacy-cdf-ignore-changes](images/data-privacy-cdf-ignore-changes.png)\n",
    "![data-privacy-cdf-propage-incremental-downstream](images/data-privacy-cdf-propage-incremental-downstream.png)\n",
    "![data-privacy-cdf-delta](images/data-privacy-cdf-delta.png)\n",
    "![data-privacy-cdf-cdc-comparison](images/data-privacy-cdf-cdc-comparison.png)\n",
    "![data-privacy-cdf-works-how](images/data-privacy-cdf-works-how.png)\n",
    "![data-privacy-cdf-consuming-delta](images/data-privacy-cdf-consuming-delta.png)\n",
    "![data-privacy-cdf-change-table-function](images/data-privacy-cdf-change-table-function.png)\n",
    "![data-privacy-cdf-configuration](images/data-privacy-cdf-configuration.png)"
   ]
  },
  {
   "cell_type": "markdown",
   "metadata": {},
   "source": [
    "### Deleting Data in Databricks\n",
    "\n",
    "![data-privacy-deleting-data](images/data-privacy-deleting-data.png)\n",
    "![data-privacy-deleting-data-arbitrary-commit-messages](images/data-privacy-deleting-data-arbitrary-commit-messages.png)\n",
    "![data-privacy-deleting-data-cdf](images/data-privacy-deleting-data-cdf.png)\n",
    "![data-privacy-deleting-data-cdf-retention-policy](images/data-privacy-deleting-data-cdf-retention-policy.png)\n",
    "![data-privacy-deleting-data-dml-on-streaming](images/data-privacy-deleting-data-dml-on-streaming.png)\n",
    "![data-privacy-deleting-data-gdpr-usecase](images/data-privacy-deleting-data-gdpr-usecase.png)\n",
    "![data-privacy-deleting-data-dml-streaming-only](images/data-privacy-deleting-data-dml-streaming-only.png)\n",
    "![data-privacy-deleting-data-dml-materialized-views](images/data-privacy-deleting-data-dml-materialized-views.png)"
   ]
  },
  {
   "cell_type": "markdown",
   "metadata": {},
   "source": [
    "### Processing Records from CDF and Propagating Changes\n",
    "![data-privacy-cdf-coding](images/data-privacy-cdf-coding.png)\n",
    "![data-privacy-cdf-coding-demo](images/data-privacy-cdf-coding-demo.png)\n",
    "![data-privacy-cdf-coding-create-bronze-user-auto-loader](images/data-privacy-cdf-coding-create-bronze-user-auto-loader.png)\n",
    "![data-privacy-cdf-coding-create-bronze-user-table](images/data-privacy-cdf-coding-create-bronze-user-table.png)\n",
    "![data-privacy-cdf-coding-incoming-data-schema](images/data-privacy-cdf-coding-incoming-data-schema.png)\n",
    "![data-privacy-cdf-coding-spark-read-stream-bronze-user](images/data-privacy-cdf-coding-spark-read-stream-bronze-user.png)\n",
    "![data-privacy-cdf-coding-load-file](images/data-privacy-cdf-coding-load-file.png)\n",
    "![data-privacy-cdf-coding-create-table-sliver-users](images/data-privacy-cdf-coding-create-table-sliver-users.png)\n",
    "![data-privacy-cdf-coding-alter-table-silver-user-enableChangeDataFeed](images/data-privacy-cdf-coding-alter-table-silver-user-enableChangeDataFeed.png)\n",
    "![data-privacy-cdf-coding-silver-user-table-properties](images/data-privacy-cdf-coding-silver-user-table-properties.png)\n",
    "![data-privacy-cdf-coding-silver-user-merge-data](images/data-privacy-cdf-coding-silver-user-merge-data.png)\n",
    "![data-privacy-cdf-coding-spark-readStream-silver-user-microBatch-write](images/data-privacy-cdf-coding-spark-readStream-silver-user-microBatch-write.png)\n",
    "![data-privacy-cdf-coding-CDF-schema](images/data-privacy-cdf-coding-CDF-schema.png)\n",
    "![data-privacy-cdf-coding-spark-read-table-silver-user](images/data-privacy-cdf-coding-spark-read-table-silver-user.png)\n",
    "![data-privacy-cdf-coding-cdc-stream](images/data-privacy-cdf-coding-cdc-stream.png)\n",
    "![data-privacy-cdf-coding-table-change-function](images/data-privacy-cdf-coding-table-change-function.png)\n",
    "![data-privacy-cdf-coding-latest-version-variable](images/data-privacy-cdf-coding-latest-version-variable.png)\n",
    "![data-privacy-cdf-coding-get-operation-metrics](images/data-privacy-cdf-coding-get-operation-metrics.png)\n",
    "![data-privacy-cdf-coding-get-operation-metrics](images/data-privacy-cdf-coding-get-operation-metrics.png)\n",
    "![data-privacy-cdf-coding-spark-commit-message](images/data-privacy-cdf-coding-spark-commit-message.png)\n",
    "![data-privacy-cdf-coding-delete-request-streaming](images/data-privacy-cdf-coding-delete-request-streaming.png)\n",
    "![data-privacy-cdf-coding-delete-request-results](images/data-privacy-cdf-coding-delete-request-results.png)\n",
    "![data-privacy-cdf-coding-delete-request-on-silver-user-table](images/data-privacy-cdf-coding-delete-request-on-silver-user-table.png)\n",
    "![data-privacy-cdf-coding-incremental-read-changes-commited-silver-user-table](images/data-privacy-cdf-coding-incremental-read-changes-commited-silver-user-table.png)\n",
    "![data-privacy-cdf-coding-process-delete-gold-user-table](images/data-privacy-cdf-coding-process-delete-gold-user-table.png)\n",
    "![data-privacy-cdf-coding-propagate-changes-lakehouse](images/data-privacy-cdf-coding-propagate-changes-lakehouse.png)\n",
    "![data-privacy-cdf-coding-gold-users-results](images/data-privacy-cdf-coding-gold-users-results.png)\n",
    "![data-privacy-cdf-coding-gold-users-check-fully-committed](images/data-privacy-cdf-coding-gold-users-check-fully-committed.png)\n",
    "![data-privacy-cdf-coding-stop-active-stream](images/data-privacy-cdf-coding-stop-active-stream.png)\n"
   ]
  }
 ],
 "metadata": {
  "language_info": {
   "name": "python"
  }
 },
 "nbformat": 4,
 "nbformat_minor": 2
}
