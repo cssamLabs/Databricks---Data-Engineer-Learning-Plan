{
 "cells": [
  {
   "cell_type": "markdown",
   "metadata": {},
   "source": [
    "# Databricks Workflow\n",
    "\n",
    "![databricks workflow](images/databricks-workflow.png)"
   ]
  },
  {
   "cell_type": "markdown",
   "metadata": {},
   "source": [
    "## Building Blocks of Databricks Workflows\n",
    "\n",
    "![building blocks databricks workflows](images/buildingblocks-of-databricks-workflows.png)"
   ]
  },
  {
   "cell_type": "markdown",
   "metadata": {},
   "source": [
    "## Jobs can be executed on different compute\n",
    "\n",
    "![different compute](images/different-compute.png)"
   ]
  },
  {
   "cell_type": "markdown",
   "metadata": {},
   "source": [
    "## Directed Acyclic Graph\n",
    "\n",
    "![multiple tasks as DAG](images/running-multiple-tasks.png)\n",
    "\n",
    "![example DAG](images/example-DAG-workflow.png)"
   ]
  },
  {
   "cell_type": "markdown",
   "metadata": {},
   "source": [
    "## Simple DAG Patterns\n",
    "\n",
    "![simple dag patterns](images/simple-DAG-patterns.png)"
   ]
  },
  {
   "cell_type": "markdown",
   "metadata": {},
   "source": [
    "## Job Basics\n",
    "\n",
    "![job basics](images/job-basics.png)\n",
    "\n",
    "## Job Task Types\n",
    "\n",
    "![job task types](images/task-types.png)\n",
    "\n",
    "## Jobs Language Supports\n",
    "\n",
    "![job language supports](images/job-languages-supported.png)\n",
    "\n",
    "\n",
    "## Job Dependent Libraries\n",
    "\n",
    "![job dependent libraries](images/dependent-libraries.png)\n",
    "\n",
    "\n",
    "## Notification Emails\n",
    "\n",
    "![job notification emails](images/notification-email.png)\n",
    "\n",
    "\n",
    "## Retry Policy\n",
    "\n",
    "![job retry policy](images/retry-policy.png)\n",
    "\n",
    "## Tags\n",
    "\n"
   ]
  },
  {
   "cell_type": "markdown",
   "metadata": {},
   "source": [
    "# Jobs Compute"
   ]
  },
  {
   "cell_type": "markdown",
   "metadata": {},
   "source": [
    "## Serverless Cluster \n",
    "\n",
    "![serverless workflow](images/serverless-workflow.png)\n",
    "\n",
    "![pricing comparision](images/pricing-comparision.png)"
   ]
  },
  {
   "cell_type": "markdown",
   "metadata": {},
   "source": [
    "## Scheduling Tasks with the jobs UI\n",
    "\n",
    "![workflow ui](images/workflow-ui.png)\n",
    "\n",
    "![task create](images/task-create.png)"
   ]
  },
  {
   "cell_type": "markdown",
   "metadata": {},
   "source": [
    "## Job Features\n",
    "\n",
    "![delta live table](images/delta-live-table.png)\n",
    "![conditional execution](images/conditional-execution.png)\n",
    "![parameterization with workflow](images/parameterizaion-workfows.png)\n",
    "![job parameters](images/job-parameters.png)\n",
    "![job context](images/job-context.png)\n",
    "![task values](images/task-values.png)\n",
    "![summery parameterization workflow](images/summery-parameterization.png)\n",
    "![run job task](images/run-job-task-type.png)\n",
    "![workflows dbsql](images/workflows-dbsql.png)\n",
    "![webhooks for jobs](images/webhooks-for-jobs.png)\n",
    "![workflow gi](images/workflow-git.png)\n",
    "![webhook notification](images/webhook-notification-events.png)\n",
    "![run as service](images/run-as-service-principle.png)\n",
    "![what is dba](images/what-is-dba.png)\n",
    "![write once deploy enywhere](images/write-once-deploy-everywhere.png)"
   ]
  },
  {
   "cell_type": "markdown",
   "metadata": {},
   "source": [
    "## Explore Scheduling Options\n",
    "\n",
    "1. Scheduled\n",
    "2. File arrival\n",
    "3. Continuous\n",
    "\n",
    "\n",
    "![job notification](images/job-notification.png)\n",
    "![job duration](images/job-duration-thresholds.png)\n",
    "![permission settings](images/permission-settings.png)\n",
    "![concurrent runs](images/concurrent-runs.png)\n",
    "![schedules and triggers](images/schedules-triggers.png)"
   ]
  },
  {
   "cell_type": "markdown",
   "metadata": {},
   "source": [
    "### File Arrival Trigger"
   ]
  },
  {
   "cell_type": "code",
   "execution_count": null,
   "metadata": {
    "vscode": {
     "languageId": "plaintext"
    }
   },
   "outputs": [],
   "source": [
    "CREATE VOLUME trigger_storage_location"
   ]
  },
  {
   "cell_type": "markdown",
   "metadata": {},
   "source": [
    "![file arrival trigger](images/file-arrival-trigger.png)\n",
    "\n",
    "![job run results](images/job-run-results.png)"
   ]
  },
  {
   "cell_type": "markdown",
   "metadata": {},
   "source": [
    "# Conditional Tasks and Reparing Runs\n",
    "\n",
    "![funnel tasks](images/funnel-tasks.png)\n",
    "![failed task](images/failed-tasks.png)\n",
    "![failed code](images/failed-code.png)\n",
    "![conditional task](images/conditional-task.png)\n",
    "![aggregate task configure](images/aggregate-task-1.png)\n",
    "![aggregate task](images/aggregate-task-2.png)"
   ]
  },
  {
   "cell_type": "markdown",
   "metadata": {},
   "source": [
    "## Databricks Workflows Best Practices\n",
    "\n",
    "![workflow best practices 1](images/workflow-best-practices-1.png)\n",
    "![workflow best practices 2](images/workflow-best-practices-2.png)\n",
    "![workflow best practices 3](images/workflow-best-practices-3.png)\n",
    "![workflow best practices 4](images/workflow-best-practices-4.png)\n",
    "![workflow best practices 5](images/workflow-best-practices-5.png)"
   ]
  }
 ],
 "metadata": {
  "language_info": {
   "name": "python"
  }
 },
 "nbformat": 4,
 "nbformat_minor": 2
}
