{
 "cells": [
  {
   "cell_type": "markdown",
   "metadata": {},
   "source": [
    "# Build Data Piplelines with Delta Live Tables\n",
    "\n",
    "## Medallion Architecture\n",
    "\n",
    "![medalliona architecture](images/medallion-architecture.png)\n",
    "![bronze layer](images/bronze-layer.png)\n",
    "![silver layer](images/silver-layer.png)\n",
    "![gold layer](images/gold-layer.png)"
   ]
  },
  {
   "cell_type": "markdown",
   "metadata": {},
   "source": [
    "## Delta Live Tables\n",
    "![multihop architecture](images/multi-hop-architecture.png)\n",
    "\n",
    "![materialized view](images/matrialized-view.png)\n",
    "\n",
    "![streaming table](images/streaming-table.png)\n",
    "\n",
    "![creating first live table pipeline](images/creating-first-live-table-pipleline.png)\n",
    "![development vs production pipelines](images/development-vs-production-pipelines.png)\n",
    "\n",
    "![declare live dependencies](images/declare-live-dependencies.png)\n",
    "![correctness and expectations](images/correctness-and-expectations.png)\n",
    "![pipelines ui visualize](images/pipelines-ui-visualize.png)\n",
    "![pipelines ui discouver](images/pipelines-ui-discover.png)\n",
    "![pipelines ui access](images/pipelines-ui-access.png)\n",
    "![pipelines ui control](images/pipelines-ui-control.png)\n",
    "![pipelines ui full refresh](images/pipelines-ui-full-refresh-all.png)\n",
    "![pipelines ui deep dive](images/pipelines-ui-deepdive.png)\n",
    "![pipelines event log](images/pipeline-eventlog.png)\n",
    "![pipelines modular config](images/pipeline-modular-config.png)\n",
    "\n"
   ]
  },
  {
   "cell_type": "markdown",
   "metadata": {},
   "source": [
    "## DLT Pipleline UI\n",
    "\n",
    "![create pipline set compute](images/create-pipeline-set-compute.png)\n",
    "![create pipline main](images/create-pipleline-main.png)\n",
    "![create pipline sourcecode](images/create-pipeline-sourcecode.png)\n",
    "![create pipline target](images/create-pipeline-target.png)\n",
    "![create pipline config source](images/create-pipeline-configuration-source.png)\n",
    "![create pipline bronze table](images/create-pipeline-bronze-table.png)\n",
    "![create pipline silver table](images/create-pipeline-silver-table.png)\n",
    "![create pipline gold table](images/create-pipeline-gold-table.png)\n",
    "![dlt pipline monitor](images/dlt-pipeline-monitor.png)\n",
    "![dlt tables](images/dtl-tables.png)\n",
    "![dlt gold table](images/dlt-gold-table.png)\n",
    "\n"
   ]
  },
  {
   "cell_type": "markdown",
   "metadata": {},
   "source": [
    "## Change Data Capture (CDC)\n",
    "\n",
    "![apply changed CDC](images/apply-changes-cdc.png)\n",
    "![CDC example](images/cdc-example.png)\n",
    "![CDC from RDBMS](images/cdc-from-rdbms.png)\n",
    "![DLT automated](images/dlt-autmated-data-management.png)"
   ]
  },
  {
   "cell_type": "markdown",
   "metadata": {},
   "source": [
    "## DLT Pipeline UI canges to Target\n",
    "\n",
    "![DTL query bronze](images/dtl-query-bronze-table.png)\n",
    "![DTL clean bronze table](images/dtl-bronze-table-clean.png)\n",
    "![DTL bronze to silver](images/dtl-bronze-to-silver.png)\n",
    "![DTL subscription](images/dtl-subscribe.png)\n",
    "![DTL pipeline moitor silver](images/dtl-pipeline-monitor-silver.png)\n",
    "![DTL bronze table](images/dtl-bronze-table-view.png)\n",
    "![DTL bronze bronze table DQ](images/dtl-bronze-table-dq.png)"
   ]
  },
  {
   "cell_type": "markdown",
   "metadata": {},
   "source": [
    "## DTL Pipeline Troubleshoot\n",
    "\n",
    "![DTL wrong query](images/dtl-wrong-quries.png)\n",
    "![DTL query corrected](images/dtl-query-corrected.png)\n"
   ]
  },
  {
   "cell_type": "markdown",
   "metadata": {},
   "source": [
    "## DTL Running Modes\n",
    "\n",
    "![DTL pipeline schedule ](images/dtl-pipeline-schedule.png)\n",
    "\n",
    "![DTL job list](images/dtl-job-list.png)\n",
    "\n",
    "![DTL schedule task](images/dtl-schedule-tasks.png)\n",
    "\n",
    "![DTL schedule serverless](images/dtl-schedule-serverless.png)\n",
    "\n",
    "![DTL event query pipeline](images/dtl-event-query-pipeline-create.png)\n",
    "\n",
    "![DTL event query latest id](images/dtl-event-query-atest-log-id.png)\n",
    "\n",
    "![DTL event query examine](images/dtl-event-query-examine.png)\n"
   ]
  }
 ],
 "metadata": {
  "language_info": {
   "name": "python"
  }
 },
 "nbformat": 4,
 "nbformat_minor": 2
}
