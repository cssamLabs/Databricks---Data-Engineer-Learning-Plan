{
 "cells": [
  {
   "cell_type": "markdown",
   "metadata": {},
   "source": [
    "# Databricks Streaming and Delta Live Tables"
   ]
  },
  {
   "cell_type": "markdown",
   "metadata": {},
   "source": [
    "## Introduction to Streaming\n",
    "\n",
    "### Streaming Data Concepts\n",
    "\n",
    "![stream-processing](images/stream-processing.png)\n",
    "![stream-processing-usecases](images/stream-processing-use-cases.png)\n",
    "![stream-processing-advantages](images/stream-processing-advantages.png)\n",
    "![stream-processing-architecture](images/stream-processing-architecture.png)\n",
    "![stream-processing-challenges](images/stream-processing-challenges.png)"
   ]
  },
  {
   "cell_type": "markdown",
   "metadata": {},
   "source": [
    "### Introduction to Structured Streaming\n",
    "\n",
    "![spark-structured-streaming-basics](images/spark-structured-streaming-basics.png)\n",
    "![spark-structured-streaming-unbounded-tables](images/spark-structured-streaming-unbounded-tables.png)\n",
    "![spark-structured-streaming-execution](images/spark-structured-streaming-execution.png)\n",
    "![spark-structured-streaming-query](images/spark-structured-streaming-query.png)\n",
    "![spark-structured-streaming-query-core-concepts](images/spark-structured-streaming-query-core-concepts.png)\n",
    "![spark-structured-streaming-query-anatomy](images/spark-structured-streaming-query-anatomy.png)\n",
    "![spark-structured-streaming-unifying-api](images/spark-structured-streaming-unifying-api.png)\n",
    "![spark-structured-streaming-trigger-types](images/spark-structured-streaming-trigger-types.png)\n",
    "![spark-structured-streaming-output-modes](images/spark-structured-streaming-output-modes.png)"
   ]
  },
  {
   "cell_type": "markdown",
   "metadata": {},
   "source": [
    "### Reading from a Streaming Query\n",
    "\n",
    "![batch-mode-prototyping](images/streaming-batch-mode-prototyping.png)\n",
    "![streaming-dataframes-build](images/streaming-dataframes-build.png)\n",
    "![streaming-write-query-results](images/streaming-write-query-results.png)\n",
    "![streaming-query-handle](images/streaming-query-handle.png)\n",
    "![streaming-query-last-progress](images/streaming-query-last-progress.png)\n",
    "![streaming-query-stop](images/streaming-query-stop.png)"
   ]
  },
  {
   "cell_type": "markdown",
   "metadata": {},
   "source": [
    "### Streaming from Delta Lake\n",
    "\n",
    "![streaming-from-delta-lake](images/streaming-from-delta-lake.png)\n",
    "![streaming-to-delta-lake](images/streaming-to-delta-lake.png)\n",
    "![streaming-from-delta-lake-settings](images/streaming-from-delta-lake-settings.png)"
   ]
  },
  {
   "cell_type": "markdown",
   "metadata": {},
   "source": [
    "## Aggregations, Time Windows, Watermarks\n",
    "![streaming-stateless-vs-stateful](images/streaming-stateless-vs-stateful.png)\n",
    "![streaming-statefull-stream](images/streaming-statefull-stream.png)"
   ]
  },
  {
   "cell_type": "markdown",
   "metadata": {},
   "source": [
    "### Event Time + Aggregations Over Time Windows\n",
    "\n",
    "![streaming-reasoning-time](images/streaming-reasoning-time.png)\n",
    "![streaming-time-based-windows](images/streaming-time-based-windows.png)\n",
    "![streaming-time-based-windows-sliding-example](images/streaming-time-based-windows-sliding-example.png)\n",
    "![streaming-time-based-windows-challanges](images/streaming-time-based-windows-challanges.png)\n",
    "![streaming-time-based-windows-solution-1](images/streaming-time-based-windows-solution-1.png)\n",
    "![streaming-time-based-windows-solution-2](images/streaming-time-based-windows-solution-2.png)\n",
    "![streaming-time-based-handling-late-arrivals](images/streaming-time-based-handling-late-arrivals.png)\n",
    "![streaming-time-based-handling-late-arrival-drops](images/streaming-time-based-handling-late-arrival-drops.png)"
   ]
  },
  {
   "cell_type": "markdown",
   "metadata": {},
   "source": [
    "![streaming-spark-classes](images/streaming-spark-classes.png)\n",
    "![streaming-spark-readStream](images/streaming-spark-readStream.png)\n",
    "![streaming-spark-window-withWatermark](images/streaming-spark-window-withWatermark.png)\n",
    "![streaming-spark-write-results-trigger](images/streaming-spark-write-results-trigger.png)\n",
    "![streaming-spark-write-results-update-mode](images/streaming-spark-write-results-update-mode.png)\n",
    "![streaming-spark-write-results-update-mode-upsert](images/streaming-spark-write-results-update-mode-upsert.png)\n",
    "![streaming-spark-write-aggregation](images/streaming-spark-write-aggregation.png)\n",
    "![streaming-spark-stop](images/streaming-spark-stop.png)"
   ]
  },
  {
   "cell_type": "markdown",
   "metadata": {},
   "source": [
    "## Data Ingestion Patterns\n",
    "\n",
    "![streaming-data-ingestion-patterns](images/streaming-data-ingestion-patterns.png)\n",
    "![streaming-data-ingestion-patterns-infinite-retention](images/streaming-data-ingestion-patterns-infinite-retention.png)\n",
    "![streaming-data-ingestion-patterns-multiplex-ingestion](images/streaming-data-ingestion-patterns-multiplex-ingestion.png)\n",
    "![streaming-data-ingestion-patterns-multiplex-ingestion-2](images/streaming-data-ingestion-patterns-multiplex-ingestion-2.png)\n",
    "![streaming-data-ingestion-patterns-multiplex-ingestion-3](images/streaming-data-ingestion-patterns-multiplex-ingestion-pattern-3.png)"
   ]
  },
  {
   "cell_type": "markdown",
   "metadata": {},
   "source": [
    "### Auto Load to Bronze\n",
    "\n",
    "![streaming-pipeline-auto-generate](images/streaming-pipeline-auto-generate.png)\n",
    "![streaming-pipeline-trigger-run](images/streaming-pipeline-trigger-run.png)\n",
    "![streaming-pipeline-delta-live-tables](images/streaming-pipeline-deltalivetables.png)\n",
    "![streaming-pipeline-auto-load-data](images/streaming-pipeline-auto-load-data.png)\n",
    "![streaming-pipeline-batch-and-streaming](images/streaming-pipeline-batch-and-streaming.png)\n",
    "![streaming-pipeline-spark-use](images/streaming-pipeline-spark-use.png)\n",
    "![streaming-pipeline-spark-use-2](images/streaming-pipeline-spark-use-2.png)\n",
    "![streaming-pipeline-spark-use-3](images/streaming-pipeline-spark-use-3.png)\n",
    "![streaming-pipeline-spark-use-4](images/streaming-pipeline-spark-use-4.png)\n",
    "![streaming-pipeline-dlt-view](images/streaming-pipeline-dlt-view.png)"
   ]
  },
  {
   "cell_type": "markdown",
   "metadata": {},
   "source": [
    "### Stream from Multiplex Bronze\n",
    "![streaming-multiplex-bronze](images/streaming-multiplex-bronze.png)\n",
    "![streaming-multiplex-schema](images/streaming-multiplex-schema.png)\n",
    "![streaming-bpm-functions](images/streaming-bpm-functions.png)\n",
    "![streaming-bpm-pipeline](images/streaming-bpm-pipeline.png)"
   ]
  },
  {
   "cell_type": "markdown",
   "metadata": {},
   "source": [
    "### Quality Enforcement Patterns\n",
    "![streaming-silver-quality-enforcement](images/streaming-silver-quality-enforcement.png)\n",
    "![streaming-silver-schema-enforcement](images/streaming-silver-schema-enforcement.png)\n",
    "![streaming-silver-quality-check](images/streaming-silver-quality-check.png)\n",
    "![streaming-silver-quarantine-invalid-records](images/streaming-silver-quarantine-invalid-records.png)\n",
    "![streaming-silver-verify-data-row-comparison](images/streaming-silver-verify-data-row-comparison.png)\n",
    "![streaming-silver-define-table-advanced-validation](images/streaming-silver-define-table-advanced-validation.png)\n",
    "![streaming-silver-code-quarantining](images/streaming-silver-code-quarantining.png)\n",
    "![streaming-silver-code-drop-duplicates](images/streaming-silver-code-drop-duplicates.png)\n",
    "![streaming-silver-code-quarantine](images/streaming-silver-code-quarantine.png)\n",
    "![streaming-silver-code-pipeline](images/streaming-silver-code-pipeline.png)\n",
    "![streaming-silver-code-quarantine-read](images/streaming-silver-code-quarantine-read.png)"
   ]
  }
 ],
 "metadata": {
  "language_info": {
   "name": "python"
  }
 },
 "nbformat": 4,
 "nbformat_minor": 2
}
